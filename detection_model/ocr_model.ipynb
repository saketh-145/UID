{
 "cells": [
  {
   "cell_type": "code",
   "execution_count": 2,
   "id": "1465628d-668d-4c71-b4f2-11db81b44403",
   "metadata": {},
   "outputs": [
    {
     "name": "stdout",
     "output_type": "stream",
     "text": [
      "Requirement already satisfied: easyocr in c:\\users\\mahia\\appdata\\local\\programs\\python\\python312\\lib\\site-packages (1.7.2)\n",
      "Requirement already satisfied: torch in c:\\users\\mahia\\appdata\\local\\programs\\python\\python312\\lib\\site-packages (from easyocr) (2.6.0)\n",
      "Requirement already satisfied: torchvision>=0.5 in c:\\users\\mahia\\appdata\\local\\programs\\python\\python312\\lib\\site-packages (from easyocr) (0.21.0)\n",
      "Requirement already satisfied: opencv-python-headless in c:\\users\\mahia\\appdata\\local\\programs\\python\\python312\\lib\\site-packages (from easyocr) (4.11.0.86)\n",
      "Requirement already satisfied: scipy in c:\\users\\mahia\\appdata\\local\\programs\\python\\python312\\lib\\site-packages (from easyocr) (1.14.1)\n",
      "Requirement already satisfied: numpy in c:\\users\\mahia\\appdata\\local\\programs\\python\\python312\\lib\\site-packages (from easyocr) (1.26.4)\n",
      "Requirement already satisfied: Pillow in c:\\users\\mahia\\appdata\\local\\programs\\python\\python312\\lib\\site-packages (from easyocr) (10.4.0)\n",
      "Requirement already satisfied: scikit-image in c:\\users\\mahia\\appdata\\local\\programs\\python\\python312\\lib\\site-packages (from easyocr) (0.25.2)\n",
      "Requirement already satisfied: python-bidi in c:\\users\\mahia\\appdata\\local\\programs\\python\\python312\\lib\\site-packages (from easyocr) (0.6.6)\n",
      "Requirement already satisfied: PyYAML in c:\\users\\mahia\\appdata\\local\\programs\\python\\python312\\lib\\site-packages (from easyocr) (6.0.2)\n",
      "Requirement already satisfied: Shapely in c:\\users\\mahia\\appdata\\local\\programs\\python\\python312\\lib\\site-packages (from easyocr) (2.0.6)\n",
      "Requirement already satisfied: pyclipper in c:\\users\\mahia\\appdata\\local\\programs\\python\\python312\\lib\\site-packages (from easyocr) (1.3.0.post6)\n",
      "Requirement already satisfied: ninja in c:\\users\\mahia\\appdata\\local\\programs\\python\\python312\\lib\\site-packages (from easyocr) (1.11.1.3)\n",
      "Requirement already satisfied: filelock in c:\\users\\mahia\\appdata\\local\\programs\\python\\python312\\lib\\site-packages (from torch->easyocr) (3.17.0)\n",
      "Requirement already satisfied: typing-extensions>=4.10.0 in c:\\users\\mahia\\appdata\\local\\programs\\python\\python312\\lib\\site-packages (from torch->easyocr) (4.12.2)\n",
      "Requirement already satisfied: networkx in c:\\users\\mahia\\appdata\\local\\programs\\python\\python312\\lib\\site-packages (from torch->easyocr) (3.3)\n",
      "Requirement already satisfied: jinja2 in c:\\users\\mahia\\appdata\\local\\programs\\python\\python312\\lib\\site-packages (from torch->easyocr) (3.1.4)\n",
      "Requirement already satisfied: fsspec in c:\\users\\mahia\\appdata\\local\\programs\\python\\python312\\lib\\site-packages (from torch->easyocr) (2025.2.0)\n",
      "Requirement already satisfied: setuptools in c:\\users\\mahia\\appdata\\local\\programs\\python\\python312\\lib\\site-packages (from torch->easyocr) (74.1.2)\n",
      "Requirement already satisfied: sympy==1.13.1 in c:\\users\\mahia\\appdata\\local\\programs\\python\\python312\\lib\\site-packages (from torch->easyocr) (1.13.1)\n",
      "Requirement already satisfied: mpmath<1.4,>=1.1.0 in c:\\users\\mahia\\appdata\\local\\programs\\python\\python312\\lib\\site-packages (from sympy==1.13.1->torch->easyocr) (1.3.0)\n",
      "Requirement already satisfied: imageio!=2.35.0,>=2.33 in c:\\users\\mahia\\appdata\\local\\programs\\python\\python312\\lib\\site-packages (from scikit-image->easyocr) (2.37.0)\n",
      "Requirement already satisfied: tifffile>=2022.8.12 in c:\\users\\mahia\\appdata\\local\\programs\\python\\python312\\lib\\site-packages (from scikit-image->easyocr) (2025.2.18)\n",
      "Requirement already satisfied: packaging>=21 in c:\\users\\mahia\\appdata\\local\\programs\\python\\python312\\lib\\site-packages (from scikit-image->easyocr) (24.1)\n",
      "Requirement already satisfied: lazy-loader>=0.4 in c:\\users\\mahia\\appdata\\local\\programs\\python\\python312\\lib\\site-packages (from scikit-image->easyocr) (0.4)\n",
      "Requirement already satisfied: MarkupSafe>=2.0 in c:\\users\\mahia\\appdata\\local\\programs\\python\\python312\\lib\\site-packages (from jinja2->torch->easyocr) (2.1.5)\n"
     ]
    }
   ],
   "source": [
    "!pip install easyocr"
   ]
  },
  {
   "cell_type": "code",
   "execution_count": 5,
   "id": "30fdb8dd-6894-4566-8b11-8250255fc2fc",
   "metadata": {},
   "outputs": [],
   "source": [
    "from ultralytics import YOLO\n",
    "import cv2\n",
    "import easyocr"
   ]
  },
  {
   "cell_type": "code",
   "execution_count": 6,
   "id": "9c551029-3e99-4da6-8097-8e4c29f36e8a",
   "metadata": {},
   "outputs": [],
   "source": [
    "model=YOLO(r\"C:\\Users\\mahia\\OneDrive\\Desktop\\infosys_project\\detection_model\\runs\\detect\\train13\\weights\\best.pt\")"
   ]
  },
  {
   "cell_type": "code",
   "execution_count": 8,
   "id": "0406c614-db92-4435-8004-7cc4077724b9",
   "metadata": {},
   "outputs": [
    {
     "name": "stderr",
     "output_type": "stream",
     "text": [
      "Neither CUDA nor MPS are available - defaulting to CPU. Note: This module is much faster with a GPU.\n"
     ]
    }
   ],
   "source": [
    "reader = easyocr.Reader(['en'])"
   ]
  },
  {
   "cell_type": "code",
   "execution_count": 17,
   "id": "55b3e137-064c-4a84-aec6-5eaa5cb6bc6a",
   "metadata": {},
   "outputs": [
    {
     "name": "stdout",
     "output_type": "stream",
     "text": [
      "\n",
      "image 1/1 C:\\Users\\mahia\\OneDrive\\Desktop\\infosys_project\\detection_model\\Aadhar-card.jpg: 224x640 1 name, 2 uids, 1 address, 68.0ms\n",
      "Speed: 2.8ms preprocess, 68.0ms inference, 0.8ms postprocess per image at shape (1, 3, 224, 640)\n"
     ]
    }
   ],
   "source": [
    "image_path=r\"C:\\Users\\mahia\\OneDrive\\Desktop\\infosys_project\\detection_model\\Aadhar-card.jpg\"\n",
    "results=model(image_path)"
   ]
  },
  {
   "cell_type": "code",
   "execution_count": 18,
   "id": "67fa11ac-5f8e-4b1e-a008-04f7f41c607f",
   "metadata": {},
   "outputs": [],
   "source": [
    "# Load the original image\n",
    "image = cv2.imread(image_path)\n",
    "\n",
    "# Dictionary to store extracted fields\n",
    "extracted_data = {}\n",
    "# Iterate through detections\n",
    "for result in results[0].boxes.data.tolist():  # results[0].boxes.data contains bounding box details\n",
    "    x1, y1, x2, y2, confidence, class_id = map(int, result[:6])\n",
    "    field_class = model.names[class_id]  # Get class name (e.g., 'Name', 'UID', 'Address')\n",
    "\n",
    "    # Crop the detected region\n",
    "    cropped_roi = image[y1:y2, x1:x2]\n",
    "\n",
    "    # Convert cropped ROI to grayscale for OCR\n",
    "    gray_roi = cv2.cvtColor(cropped_roi, cv2.COLOR_BGR2GRAY)\n",
    "\n",
    "    # Use EasyOCR to extract text\n",
    "    text = reader.readtext(gray_roi, detail=0)  # detail=0 returns only the text\n",
    "\n",
    "    # Save the text to the extracted_data dictionary\n",
    "    extracted_data[field_class] = ' '.join(text)  # Combine detected text if multiple lines"
   ]
  },
  {
   "cell_type": "code",
   "execution_count": 19,
   "id": "254f761c-e0db-4953-87f7-73522adbdd33",
   "metadata": {},
   "outputs": [
    {
     "name": "stdout",
     "output_type": "stream",
     "text": [
      "Extracted Data: {'address': 'Address: S/0 Raj Kumar  6[27 , Oxposite Village Mangol Pu Kan, KangolFuny Mangilpui N Bo k Korh West Dehi; Delh 110783', 'name': 'Sumc Kima:', 'uid': '3366 4374 2123'}\n"
     ]
    }
   ],
   "source": [
    "# Print the extracted fields\n",
    "print(\"Extracted Data:\", extracted_data)"
   ]
  },
  {
   "cell_type": "code",
   "execution_count": null,
   "id": "002ed537-d2aa-4360-b543-66ef8a79c105",
   "metadata": {},
   "outputs": [],
   "source": []
  }
 ],
 "metadata": {
  "kernelspec": {
   "display_name": "Python 3 (ipykernel)",
   "language": "python",
   "name": "python3"
  },
  "language_info": {
   "codemirror_mode": {
    "name": "ipython",
    "version": 3
   },
   "file_extension": ".py",
   "mimetype": "text/x-python",
   "name": "python",
   "nbconvert_exporter": "python",
   "pygments_lexer": "ipython3",
   "version": "3.12.6"
  }
 },
 "nbformat": 4,
 "nbformat_minor": 5
}
